{
 "cells": [
  {
   "cell_type": "code",
   "execution_count": 44,
   "id": "d64b57ad",
   "metadata": {},
   "outputs": [],
   "source": [
    "import neo4j\n",
    "import pandas as pd"
   ]
  },
  {
   "cell_type": "code",
   "execution_count": 45,
   "id": "eaf4642b",
   "metadata": {},
   "outputs": [],
   "source": [
    "def connect_db():\n",
    "    driver = neo4j.GraphDatabase.driver(uri=\"neo4j://0.0.0.0:7687\", auth=(\"neo4j\",\"password\"))\n",
    "    session = driver.session(database=\"neo4j\")\n",
    "    return session\n",
    "    \n",
    "def wipe_out_db(session):\n",
    "    # wipe out database by deleting all nodes and relationships\n",
    "    \n",
    "    # similar to SELECT * FROM graph_db in SQL\n",
    "    query = \"match (node)-[relationship]->() delete node, relationship\"\n",
    "    session.run(query)\n",
    "    \n",
    "    query = \"match (node) delete node\"\n",
    "    session.run(query)\n",
    "\n",
    "session = connect_db()\n",
    "wipe_out_db(session) "
   ]
  },
  {
   "cell_type": "code",
   "execution_count": 46,
   "id": "4d6fc3b2",
   "metadata": {},
   "outputs": [
    {
     "data": {
      "text/plain": [
       "<neo4j._sync.work.result.Result at 0x1221610d0>"
      ]
     },
     "execution_count": 46,
     "metadata": {},
     "output_type": "execute_result"
    }
   ],
   "source": [
    "query = \"\"\"\n",
    "\n",
    "\n",
    "CREATE\n",
    "  (mike:User {username: 'Mike123', password: 'MikePass', email: 'mike@email.com', interest: 'poker', year_of_graduation: 2020, job_title: 'Software Engineer', company_name: 'TechCorp', location: 'New York'}),\n",
    "  (sarah:User {username: 'Sarah456', password: 'SarahPass', email: 'sarah@email.com',interest: 'skiing', year_of_graduation: 2019, job_title: 'Data Analyst', company_name: 'DataWorks', location: 'San Francisco'}),\n",
    "  (john:User {username: 'John789', password: 'JohnPass', email: 'john@email.com',interest: 'basketball', year_of_graduation: 2021, job_title: 'Product Manager', company_name: 'InnovateInc', location: 'Chicago'}),\n",
    "  (emily:User {username: 'Emily010', password: 'EmilyPass', email: 'emily@email.com', interest: 'poker',year_of_graduation: 2018, job_title: 'HR Specialist', company_name: 'PeopleFirst', location: 'Miami'}),\n",
    "  (t:User {username: 'TechGuru88', password: 'TechPass88', email: 'techguru88@email.com', interest: 'artificial intelligence', year_of_graduation: 2019, job_title: 'AI Researcher', company_name: 'TechAdvance', location: 'San Francisco'}),\n",
    "  (n:User {username: 'NatureLover', password: 'NaturePass123', email: 'naturelover@email.com', interest: 'environmental activism', year_of_graduation: 2017, job_title: 'Environmental Scientist', company_name: 'EcoSolutions', location: 'Portland'}),\n",
    "  (h:User {username: 'HistoryBuff1912', password: 'HistoryPass1912', email: 'historybuff1912@email.com', interest: 'historical research', year_of_graduation: 2015, job_title: 'History Professor', company_name: 'HistoricalUniversity', location: 'Boston'}),\n",
    "  (q:User {username: 'QuantumLeap', password: 'Quantum1234', email: 'quantumleap@email.com', interest: 'quantum computing', year_of_graduation: 2020, job_title: 'Quantum Engineer', company_name: 'QuantumTech', location: 'New York City'}),\n",
    "  (f:User {username: 'FitnessFanatic', password: 'FitFan2023', email: 'fitnessfanatic@email.com', interest: 'personal fitness', year_of_graduation: 2018, job_title: 'Personal Trainer', company_name: 'FitLifeGym', location: 'Los Angeles'}),\n",
    "  \n",
    "  (mike)-[:CONNECT {time: '2023-01-01'}]->(sarah),\n",
    "  (sarah)-[:CONNECT {time: '2023-02-01'}]->(john),\n",
    "  (mike)-[:CONNECT {time: '2023-09-01'}]->(emily),\n",
    "  (t)-[:CONNECT {time: '2023-01-01'}]->(sarah),\n",
    "  (q)-[:CONNECT {time: '2023-02-01'}]->(t),\n",
    "  (f)-[:CONNECT {time: '2023-09-01'}]->(h),\n",
    "  \n",
    "  (post1:Post {username: 'Mike123', content: 'Chatgpt instruction: ...', comment: 5, view: 100, like: 50, title: 'How to use chatgpt', topic: 'Technology'}),\n",
    "  (post2:Post {username: 'Sarah456', content: 'Data Science is a subject that works on patterns.', comment: 3, view: 150, like: 75, title: 'What is Data Science', topic: 'Science'}),\n",
    "  (post3:Post {username: 'TechGuru88', content: 'Exploring the latest trends in AI development and its future potential.', comment: 10, view: 200, like: 120, title: 'The Future of Artificial Intelligence', topic: 'Technology'}),\n",
    "  (post4:Post {username: 'NatureLover', content: 'The impact of climate change on marine ecosystems is more severe than previously thought.', comment: 8, view: 175, like: 90, title: 'Climate Change and Marine Life', topic: 'Environment'}),\n",
    "  (post5:Post {username: 'HistoryBuff1912', content: 'A deep dive into the political dynamics of the Renaissance era.', comment: 6, view: 130, like: 60, title: 'Politics in the Renaissance', topic: 'History'}),\n",
    "  (post6:Post {username: 'QuantumLeap', content: 'Understanding quantum computing and its implications for the future of technology.', comment: 12, view: 220, like: 150, title: 'Quantum Computing 101', topic: 'Science'}),\n",
    "  (post7:Post {username: 'FitnessFanatic', content: 'Exploring the benefits of high-intensity interval training for cardiovascular health.', comment: 4, view: 160, like: 80, title: 'HIIT for Heart Health', topic: 'Health & Wellness'}),\n",
    "  (post8:Post {username: 'Mike123', content: 'Discovering the potential of virtual reality in education.', comment: 7, view: 210, like: 110, title: 'VR in Education', topic: 'Technology'}),\n",
    "  (post9:Post {username: 'Mike123', content: 'The evolution of cloud computing and its impact on businesses.', comment: 9, view: 190, like: 130, title: 'Cloud Computing Revolution', topic: 'Business'}),\n",
    "  (post10:Post {username: 'Emily010', content: 'Analyzing the psychological aspects of competitive gaming.', comment: 5, view: 160, like: 85, title: 'Psychology of Gaming', topic: 'Gaming'}),\n",
    "  (post11:Post {username: 'Emily010', content: 'Effective strategies for talent management in a dynamic workplace.', comment: 6, view: 180, like: 95, title: 'Talent Management Strategies', topic: 'Human Resources'}),\n",
    "  \n",
    "  (mike)-[:POSTED {time: '2023-01-01'}]->(post1),\n",
    "  (emily)-[:POSTED {time: '2023-01-01'}]->(post2),\n",
    "  (t)-[:POSTED {time: '2023-01-02'}]->(post3),\n",
    "  (n)-[:POSTED {time: '2023-01-03'}]->(post4),\n",
    "  (h)-[:POSTED {time: '2023-01-04'}]->(post5),\n",
    "  (q)-[:POSTED {time: '2023-01-05'}]->(post6),\n",
    "  (f)-[:POSTED {time: '2023-01-06'}]->(post7),\n",
    "  (mike)-[:POSTED {time: '2023-01-07'}]->(post8),\n",
    "  (mike)-[:POSTED {time: '2023-01-08'}]->(post9),\n",
    "  (emily)-[:POSTED {time: '2023-01-09'}]->(post10),\n",
    "  (emily)-[:POSTED {time: '2023-01-10'}]->(post11),\n",
    "  \n",
    "  (message1:Message {send_user: 'Mike123', receive_user: 'John789', content: 'Hello there!'}),\n",
    "  (message2:Message {send_user: 'John789', receive_user: 'Emily010', content: 'Hi, how are you?'}),\n",
    "  \n",
    "  (mike)-[:SENT {time: '2023-01-01'}]->(message),\n",
    "  (message)-[:RECEIVED_BY]->(john),\n",
    "  (john)-[:SENT {time: '2023-01-02'}]->(message),\n",
    "  (message)-[:RECEIVED_BY]->(emily),\n",
    "\n",
    "  (meeting1:Meeting {location: 'New York', time: '2023-01-02'}),\n",
    "  (meeting2:Meeting {location: 'Chicago', time: '2023-01-02'}),\n",
    "  \n",
    "  (john)-[:HOLD]->(meeting1),\n",
    "  (sarah)-[:HOLD]->(meeting2)\n",
    "  \n",
    "\"\"\"\n",
    "\n",
    "session.run(query)"
   ]
  },
  {
   "cell_type": "code",
   "execution_count": 47,
   "id": "dcb187bb",
   "metadata": {},
   "outputs": [],
   "source": [
    "def run_query_to_pandas(session, query):\n",
    "    # run a query and return the results in a pandas dataframe\n",
    "    \n",
    "    result = session.run(query)\n",
    "    \n",
    "    df = pd.DataFrame([r.values() for r in result], columns=result.keys())\n",
    "    \n",
    "    return df"
   ]
  },
  {
   "cell_type": "code",
   "execution_count": 59,
   "id": "5db4d010",
   "metadata": {},
   "outputs": [
    {
     "data": {
      "text/plain": [
       "[{'u.email': 'mike@email.com'}]"
      ]
     },
     "execution_count": 59,
     "metadata": {},
     "output_type": "execute_result"
    }
   ],
   "source": [
    "#Retrieve a property of a specific User \n",
    "query = '''\n",
    "    MATCH (u:User {username: 'Mike123'})\n",
    "    RETURN u.email\n",
    "\n",
    "'''\n",
    "result = session.run(query)\n",
    "result.data()"
   ]
  },
  {
   "cell_type": "code",
   "execution_count": 60,
   "id": "d4a04af1",
   "metadata": {},
   "outputs": [
    {
     "data": {
      "text/plain": [
       "[{'p': {'view': 190,\n",
       "   'like': 130,\n",
       "   'topic': 'Business',\n",
       "   'comment': 9,\n",
       "   'title': 'Cloud Computing Revolution',\n",
       "   'content': 'The evolution of cloud computing and its impact on businesses.',\n",
       "   'username': 'Mike123'}},\n",
       " {'p': {'view': 100,\n",
       "   'like': 50,\n",
       "   'topic': 'Technology',\n",
       "   'comment': 5,\n",
       "   'title': 'How to use chatgpt',\n",
       "   'content': 'Chatgpt instruction: ...',\n",
       "   'username': 'Mike123'}},\n",
       " {'p': {'view': 210,\n",
       "   'like': 110,\n",
       "   'topic': 'Technology',\n",
       "   'comment': 7,\n",
       "   'title': 'VR in Education',\n",
       "   'content': 'Discovering the potential of virtual reality in education.',\n",
       "   'username': 'Mike123'}}]"
      ]
     },
     "execution_count": 60,
     "metadata": {},
     "output_type": "execute_result"
    }
   ],
   "source": [
    "#Find all Posts created by a specific User\n",
    "query = '''\n",
    "    MATCH (u:User {username: 'Mike123'})-[:POSTED]->(p:Post)\n",
    "    RETURN p\n",
    "\n",
    "'''\n",
    "result = session.run(query)\n",
    "result.data()"
   ]
  },
  {
   "cell_type": "code",
   "execution_count": 50,
   "id": "6b95ed93",
   "metadata": {},
   "outputs": [
    {
     "data": {
      "text/plain": [
       "[{'u.username': 'Mike123'},\n",
       " {'u.username': 'TechGuru88'},\n",
       " {'u.username': 'Mike123'}]"
      ]
     },
     "execution_count": 50,
     "metadata": {},
     "output_type": "execute_result"
    }
   ],
   "source": [
    "#Find all Users who posted a specific topic of Post (topic is a property of Post)\n",
    "query = '''\n",
    "    MATCH (u:User)-[:POSTED]->(p:Post {topic: 'Technology'})\n",
    "    RETURN u.username\n",
    "\n",
    "'''\n",
    "result = session.run(query)\n",
    "result.data()"
   ]
  },
  {
   "cell_type": "code",
   "execution_count": 57,
   "id": "0eaeb5cb",
   "metadata": {},
   "outputs": [
    {
     "data": {
      "text/plain": [
       "[{'User1': 'Mike123', 'User2': 'Emily010', 'CommonInterest': 'poker'}]"
      ]
     },
     "execution_count": 57,
     "metadata": {},
     "output_type": "execute_result"
    }
   ],
   "source": [
    "#Find common interests between two specific Users. \n",
    "query = '''\n",
    "    MATCH (user1:User {username: 'Mike123'}), \n",
    "          (user2:User {username: 'Emily010'})\n",
    "    WHERE user1.interest = user2.interest AND user1.username <> user2.username\n",
    "    RETURN user1.username AS User1, user2.username AS User2, user1.interest AS CommonInterest\n",
    "'''\n",
    "result = session.run(query)\n",
    "result.data()"
   ]
  },
  {
   "cell_type": "code",
   "execution_count": 52,
   "id": "46a35767",
   "metadata": {},
   "outputs": [
    {
     "data": {
      "text/plain": [
       "[{'u.username': 'Mike123', 'PostsCount': 3},\n",
       " {'u.username': 'Emily010', 'PostsCount': 3},\n",
       " {'u.username': 'HistoryBuff1912', 'PostsCount': 1}]"
      ]
     },
     "execution_count": 52,
     "metadata": {},
     "output_type": "execute_result"
    }
   ],
   "source": [
    "#Retrieve top 3 Users who created most Posts\n",
    "query = '''\n",
    "    MATCH (u:User)-[:POSTED]->(p:Post)\n",
    "    RETURN u.username, COUNT(p) AS PostsCount\n",
    "    ORDER BY PostsCount DESC\n",
    "    LIMIT 3\n",
    "\n",
    "'''\n",
    "result = session.run(query)\n",
    "result.data()"
   ]
  },
  {
   "cell_type": "code",
   "execution_count": 53,
   "id": "4a4f5348",
   "metadata": {},
   "outputs": [
    {
     "data": {
      "text/plain": [
       "[{'user.username': 'Sarah456'}, {'user.username': 'John789'}]"
      ]
     },
     "execution_count": 53,
     "metadata": {},
     "output_type": "execute_result"
    }
   ],
   "source": [
    "#Retrieve Users who haven’t created any Posts\n",
    "query = '''\n",
    "    MATCH (user:User)\n",
    "    WHERE NOT EXISTS {\n",
    "        MATCH (user)-[:POSTED]->(:Post)\n",
    "    }\n",
    "    RETURN user.username\n",
    "\n",
    "'''\n",
    "result = session.run(query)\n",
    "result.data()"
   ]
  },
  {
   "cell_type": "code",
   "execution_count": 71,
   "id": "418ebd77",
   "metadata": {},
   "outputs": [
    {
     "data": {
      "text/plain": [
       "[{'path': [{'password': 'Quantum1234',\n",
       "    'interest': 'quantum computing',\n",
       "    'year_of_graduation': 2020,\n",
       "    'company_name': 'QuantumTech',\n",
       "    'location': 'New York City',\n",
       "    'job_title': 'Quantum Engineer',\n",
       "    'email': 'quantumleap@email.com',\n",
       "    'username': 'QuantumLeap'},\n",
       "   'CONNECT',\n",
       "   {'password': 'TechPass88',\n",
       "    'interest': 'artificial intelligence',\n",
       "    'year_of_graduation': 2019,\n",
       "    'company_name': 'TechAdvance',\n",
       "    'location': 'San Francisco',\n",
       "    'job_title': 'AI Researcher',\n",
       "    'email': 'techguru88@email.com',\n",
       "    'username': 'TechGuru88'},\n",
       "   'CONNECT',\n",
       "   {'password': 'SarahPass',\n",
       "    'interest': 'skiing',\n",
       "    'year_of_graduation': 2019,\n",
       "    'company_name': 'DataWorks',\n",
       "    'location': 'San Francisco',\n",
       "    'job_title': 'Data Analyst',\n",
       "    'email': 'sarah@email.com',\n",
       "    'username': 'Sarah456'}]}]"
      ]
     },
     "execution_count": 71,
     "metadata": {},
     "output_type": "execute_result"
    }
   ],
   "source": [
    "#Given two Users, identify if they are indirectly connected through a chain of friends and, if so, return the connecting path. For instance, can you find a relationship path where Alice is friends with someone (say, Bob), who in turn is friends with Charlie?\n",
    "query = '''\n",
    "    MATCH path = (u1:User {username: 'QuantumLeap'})-[:CONNECT*2..]-(u2:User {username: 'Sarah456'})\n",
    "    WHERE NONE(r IN relationships(path) WHERE startNode(r).username = 'USERNAME1' AND endNode(r).username = 'USERNAME2')\n",
    "    RETURN path\n",
    "'''\n",
    "result = session.run(query)\n",
    "result.data()"
   ]
  },
  {
   "cell_type": "code",
   "execution_count": 55,
   "id": "cf7187cb",
   "metadata": {},
   "outputs": [
    {
     "data": {
      "text/plain": [
       "[{'user.username': 'NatureLover'}]"
      ]
     },
     "execution_count": 55,
     "metadata": {},
     "output_type": "execute_result"
    }
   ],
   "source": [
    "#Write a query to identify orphaned Users (Users who have no connections). \n",
    "#Can you think of a scenario when this information is useful?\n",
    "#we can send message to these people, they might be interested in connecting to others\n",
    "query = '''\n",
    "    MATCH (user:User)\n",
    "    WHERE NOT (user)-[:CONNECT]-()\n",
    "    RETURN user.username\n",
    "\n",
    "'''\n",
    "result = session.run(query)\n",
    "result.data()"
   ]
  }
 ],
 "metadata": {
  "kernelspec": {
   "display_name": "Python 3 (ipykernel)",
   "language": "python",
   "name": "python3"
  },
  "language_info": {
   "codemirror_mode": {
    "name": "ipython",
    "version": 3
   },
   "file_extension": ".py",
   "mimetype": "text/x-python",
   "name": "python",
   "nbconvert_exporter": "python",
   "pygments_lexer": "ipython3",
   "version": "3.11.4"
  }
 },
 "nbformat": 4,
 "nbformat_minor": 5
}
